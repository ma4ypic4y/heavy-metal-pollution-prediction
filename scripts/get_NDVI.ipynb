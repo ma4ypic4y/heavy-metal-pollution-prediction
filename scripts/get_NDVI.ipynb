{
  "nbformat": 4,
  "nbformat_minor": 0,
  "metadata": {
    "colab": {
      "name": "get_NDVI.ipynb",
      "provenance": [],
      "authorship_tag": "ABX9TyM5tydmR/MVqEZ2tmhyqmA0",
      "include_colab_link": true
    },
    "kernelspec": {
      "name": "python3",
      "display_name": "Python 3"
    },
    "language_info": {
      "name": "python"
    }
  },
  "cells": [
    {
      "cell_type": "markdown",
      "metadata": {
        "id": "view-in-github",
        "colab_type": "text"
      },
      "source": [
        "<a href=\"https://colab.research.google.com/github/ma4ypic4y/heavy-metal-pollution-prediction/blob/main/get_NDVI.ipynb\" target=\"_parent\"><img src=\"https://colab.research.google.com/assets/colab-badge.svg\" alt=\"Open In Colab\"/></a>"
      ]
    },
    {
      "cell_type": "code",
      "metadata": {
        "id": "gWQ8lAv4S4Vr"
      },
      "source": [
        "import pandas as pd\n",
        "import numpy as np\n",
        "import os\n",
        "import matplotlib.pyplot as plt"
      ],
      "execution_count": 2,
      "outputs": []
    },
    {
      "cell_type": "code",
      "metadata": {
        "id": "6GeBUzVRS-EL"
      },
      "source": [
        "df = pd.read_csv('/content/10k_gen_europe.csv')"
      ],
      "execution_count": 3,
      "outputs": []
    },
    {
      "cell_type": "code",
      "metadata": {
        "id": "dz82vvAFTPB_"
      },
      "source": [
        "df.describe()"
      ],
      "execution_count": null,
      "outputs": []
    },
    {
      "cell_type": "markdown",
      "metadata": {
        "id": "dfoJNgyuTba5"
      },
      "source": [
        "### GEE API"
      ]
    },
    {
      "cell_type": "code",
      "metadata": {
        "id": "If42Fp_FTPsX"
      },
      "source": [
        "import ee\n",
        "import datetime"
      ],
      "execution_count": 8,
      "outputs": []
    },
    {
      "cell_type": "code",
      "metadata": {
        "id": "0KGbhsabTauG"
      },
      "source": [
        "ee.Authenticate()\n",
        "# Initialize the library.\n",
        "ee.Initialize()"
      ],
      "execution_count": null,
      "outputs": []
    },
    {
      "cell_type": "code",
      "metadata": {
        "id": "CO_192OCTdy4"
      },
      "source": [
        "ndvi_val = []\n",
        "for i in range(len(df)):\n",
        "  \n",
        "    lon = df['Longitude'][i]\n",
        "    lat = df['Latitude'][i]\n",
        "    \n",
        "    point = (ee.Geometry.Point(lon, lat))\n",
        "    l8 = ee.ImageCollection('LANDSAT/LC08/C01/T1_TOA')\n",
        "  \n",
        "    image = ee.Image(l8.filterBounds(point)\n",
        "        .filterDate('2015-01-01', '2015-12-31')\n",
        "        .sort('CLOUD_COVER')\n",
        "        .first())\n",
        "  \n",
        "    nir = image.select('B5');\n",
        "    red = image.select('B4');\n",
        "    ndvi = nir.subtract(red).divide(nir.add(red)).rename('NDVI')\n",
        "    val = (ndvi.reduceRegion(\n",
        "                          reducer=ee.Reducer.mean(),\n",
        "                          geometry=point,\n",
        "                          scale=10))\n",
        "    \n",
        "    try:\n",
        "        ndvi_val.append(val.getInfo().get('NDVI'))\n",
        "    except Exception:\n",
        "        ndvi_val.append(-10)\n",
        "        continue\n",
        "    print(i)"
      ],
      "execution_count": null,
      "outputs": []
    },
    {
      "cell_type": "code",
      "metadata": {
        "id": "ihvhWU9ZTwi6"
      },
      "source": [
        "ser = pd.Series(ndvi_val, copy=False)"
      ],
      "execution_count": 11,
      "outputs": []
    },
    {
      "cell_type": "code",
      "metadata": {
        "id": "39JY_0vYT5-c"
      },
      "source": [
        "ser.to_csv('NEWoutNDVI_10k_water.csv')"
      ],
      "execution_count": 12,
      "outputs": []
    },
    {
      "cell_type": "code",
      "metadata": {
        "id": "d0yMul3-T79t"
      },
      "source": [
        "ser.describe()"
      ],
      "execution_count": null,
      "outputs": []
    },
    {
      "cell_type": "code",
      "metadata": {
        "id": "pcAY-HQ9fOCe"
      },
      "source": [
        "df['ndvi'] = ser"
      ],
      "execution_count": 17,
      "outputs": []
    },
    {
      "cell_type": "code",
      "metadata": {
        "id": "whnJmahefRf5"
      },
      "source": [
        "df['Class'] = 2"
      ],
      "execution_count": 18,
      "outputs": []
    },
    {
      "cell_type": "markdown",
      "metadata": {
        "id": "0O0HaUs6fjDv"
      },
      "source": [
        "### filter\n"
      ]
    },
    {
      "cell_type": "code",
      "metadata": {
        "id": "ipvf0iibfdvL"
      },
      "source": [
        "df_out = df.query('ndvi>0.2')"
      ],
      "execution_count": 21,
      "outputs": []
    },
    {
      "cell_type": "markdown",
      "metadata": {
        "id": "timZKgPNe21S"
      },
      "source": [
        "## to GEOjson"
      ]
    },
    {
      "cell_type": "code",
      "metadata": {
        "colab": {
          "base_uri": "https://localhost:8080/"
        },
        "id": "vpUOIgNTe6u1",
        "outputId": "b87fe0a7-9140-4174-8672-35bf679fa09f"
      },
      "source": [
        "pip install geojson"
      ],
      "execution_count": 14,
      "outputs": [
        {
          "output_type": "stream",
          "name": "stdout",
          "text": [
            "Collecting geojson\n",
            "  Downloading geojson-2.5.0-py2.py3-none-any.whl (14 kB)\n",
            "Installing collected packages: geojson\n",
            "Successfully installed geojson-2.5.0\n"
          ]
        }
      ]
    },
    {
      "cell_type": "code",
      "metadata": {
        "id": "trJOk1BuT-rG"
      },
      "source": [
        "import pandas as pd\n",
        "import geojson\n",
        "\n",
        "def data2geojson(df):\n",
        "    features = []\n",
        "    insert_features = lambda X: features.append(\n",
        "            geojson.Feature(geometry=geojson.Point((X[\"Longitude\"],\n",
        "                                                    X[\"Latitude\"]\n",
        "                                                    )),\n",
        "                            properties=dict(class_=X[\"Class\"])))\n",
        "    df.apply(insert_features, axis=1)\n",
        "    with open('test_NDVI.geojson', 'w', encoding='utf8') as fp:\n",
        "        geojson.dump(geojson.FeatureCollection(features), fp, sort_keys=True, ensure_ascii=False)\n",
        "\n",
        "\n",
        "data2geojson(df_out[['Latitude','Longitude','Class']])"
      ],
      "execution_count": 23,
      "outputs": []
    },
    {
      "cell_type": "code",
      "metadata": {
        "id": "j7-06ZJRfAmO"
      },
      "source": [
        ""
      ],
      "execution_count": null,
      "outputs": []
    }
  ]
}