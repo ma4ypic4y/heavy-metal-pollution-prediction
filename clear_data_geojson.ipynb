{
  "nbformat": 4,
  "nbformat_minor": 0,
  "metadata": {
    "colab": {
      "name": "clear_data_geojson.ipynb",
      "provenance": [],
      "collapsed_sections": [],
      "mount_file_id": "1f7yvUfR0NVa8huWMPz4O5OqI5Mg9OUji",
      "authorship_tag": "ABX9TyMV30e8ipdfqZXWFIRBxfox",
      "include_colab_link": true
    },
    "kernelspec": {
      "name": "python3",
      "display_name": "Python 3"
    },
    "language_info": {
      "name": "python"
    }
  },
  "cells": [
    {
      "cell_type": "markdown",
      "metadata": {
        "id": "view-in-github",
        "colab_type": "text"
      },
      "source": [
        "<a href=\"https://colab.research.google.com/github/ma4ypic4y/heavy-metal-pollution-prediction/blob/main/clear_data_geojson.ipynb\" target=\"_parent\"><img src=\"https://colab.research.google.com/assets/colab-badge.svg\" alt=\"Open In Colab\"/></a>"
      ]
    },
    {
      "cell_type": "markdown",
      "metadata": {
        "id": "8AJ-9Hzd878e"
      },
      "source": [
        "## Load csv"
      ]
    },
    {
      "cell_type": "code",
      "metadata": {
        "id": "OV3M7CHQ0TPn"
      },
      "source": [
        "import pandas as pd\n",
        "import os"
      ],
      "execution_count": null,
      "outputs": []
    },
    {
      "cell_type": "code",
      "metadata": {
        "id": "FMbDwWht0Xr5"
      },
      "source": [
        "df = pd.read_csv('/content/10k_above_02.csv')"
      ],
      "execution_count": null,
      "outputs": []
    },
    {
      "cell_type": "code",
      "metadata": {
        "id": "YMcRct_Nk96c"
      },
      "source": [
        "df['Class']=2"
      ],
      "execution_count": null,
      "outputs": []
    },
    {
      "cell_type": "markdown",
      "metadata": {
        "id": "Fa5CL489-yo_"
      },
      "source": [
        "## Convert to GEOjson"
      ]
    },
    {
      "cell_type": "code",
      "metadata": {
        "colab": {
          "base_uri": "https://localhost:8080/"
        },
        "id": "ftcRvJtn7J_k",
        "outputId": "237d1370-1ea7-44bd-e5f2-8a7e39957946"
      },
      "source": [
        "pip install geojson"
      ],
      "execution_count": null,
      "outputs": [
        {
          "output_type": "stream",
          "name": "stdout",
          "text": [
            "Collecting geojson\n",
            "  Downloading geojson-2.5.0-py2.py3-none-any.whl (14 kB)\n",
            "Installing collected packages: geojson\n",
            "Successfully installed geojson-2.5.0\n"
          ]
        }
      ]
    },
    {
      "cell_type": "code",
      "metadata": {
        "id": "iiZpEgKd-yGS"
      },
      "source": [
        "import pandas as pd\n",
        "import geojson\n",
        "\n",
        "def data2geojson(df):\n",
        "    features = []\n",
        "    insert_features = lambda X: features.append(\n",
        "            geojson.Feature(geometry=geojson.Point((X[\"Longitude\"],\n",
        "                                                    X[\"Latitude\"]\n",
        "                                                    )),\n",
        "                            properties=dict(class_=X[\"Class\"])))\n",
        "    df.apply(insert_features, axis=1)\n",
        "    with open('filename.geojson', 'w', encoding='utf8') as fp:\n",
        "        geojson.dump(geojson.FeatureCollection(features), fp, sort_keys=True, ensure_ascii=False)\n",
        "\n",
        "\n",
        "data2geojson(df[['Latitude','Longitude','Class']])\n",
        "\n"
      ],
      "execution_count": null,
      "outputs": []
    },
    {
      "cell_type": "code",
      "metadata": {
        "id": "sB6FcMHM_VBA"
      },
      "source": [
        "data2geojson(df_2518)"
      ],
      "execution_count": null,
      "outputs": []
    },
    {
      "cell_type": "code",
      "metadata": {
        "id": "DUVnfvYPZ0xD"
      },
      "source": [
        ""
      ],
      "execution_count": null,
      "outputs": []
    }
  ]
}