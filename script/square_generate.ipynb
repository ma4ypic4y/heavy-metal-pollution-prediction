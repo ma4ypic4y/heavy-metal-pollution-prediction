{
  "nbformat": 4,
  "nbformat_minor": 0,
  "metadata": {
    "colab": {
      "name": "square_generate.ipynb",
      "provenance": [],
      "collapsed_sections": [],
      "authorship_tag": "ABX9TyPIOdGtuv952gWO5PmCGuoB",
      "include_colab_link": true
    },
    "kernelspec": {
      "name": "python3",
      "display_name": "Python 3"
    },
    "language_info": {
      "name": "python"
    }
  },
  "cells": [
    {
      "cell_type": "markdown",
      "metadata": {
        "id": "view-in-github",
        "colab_type": "text"
      },
      "source": [
        "<a href=\"https://colab.research.google.com/github/ma4ypic4y/heavy-metal-pollution-prediction/blob/main/square_generate.ipynb\" target=\"_parent\"><img src=\"https://colab.research.google.com/assets/colab-badge.svg\" alt=\"Open In Colab\"/></a>"
      ]
    },
    {
      "cell_type": "code",
      "metadata": {
        "id": "a_8tHNdAKjiG"
      },
      "source": [
        "import numpy as np\n",
        "import matplotlib.pyplot as plt\n",
        "import pandas as pd"
      ],
      "execution_count": null,
      "outputs": []
    },
    {
      "cell_type": "code",
      "metadata": {
        "id": "2ba0Bqjg2Ig5"
      },
      "source": [
        "def dotsGenerator(leftLov,rightUp,n):\n",
        "  #rightLov = [leftLov[0],rightUp[1]]\n",
        "  xStart = np.linspace(leftLov[1],rightUp[1],n)\n",
        "  yStart = np.linspace(leftLov[0],rightUp[0],n)\n",
        "  xx = np.linspace(leftLov[1],rightUp[1],n)\n",
        "\n",
        "  y=[]\n",
        "  x=[]\n",
        "  for i in range(len(yStart)):\n",
        "    y.append(yStart)\n",
        "    x.append(np.linspace(xx[i],xx[i],len(yStart)))\n",
        "  cord= []\n",
        "  for i in range(len(x)):\n",
        "    for j in range(len(y)):\n",
        "      cord.append([y[i][j],x[i][j]])\n",
        "\n",
        "  df = pd.DataFrame(cord, columns = ['Latitude','Longitude'])\n",
        "  return df"
      ],
      "execution_count": null,
      "outputs": []
    },
    {
      "cell_type": "code",
      "metadata": {
        "id": "oIHev0Rc2IUn"
      },
      "source": [
        "df= dotsGenerator([-8.28992942039915,37.59140509997072],[30.048300593451856,70.67646230643889],100)"
      ],
      "execution_count": null,
      "outputs": []
    },
    {
      "cell_type": "code",
      "metadata": {
        "id": "n2z8Tmc6qzfL"
      },
      "source": [
        "df = df[['Latitude','Longitude']]\n",
        "df"
      ],
      "execution_count": null,
      "outputs": []
    },
    {
      "cell_type": "code",
      "metadata": {
        "id": "rFHtAqBdLO1N"
      },
      "source": [
        "df['Class']=1"
      ],
      "execution_count": null,
      "outputs": []
    },
    {
      "cell_type": "code",
      "metadata": {
        "id": "7KGc1IWs4FQK"
      },
      "source": [
        "df.to_csv('10k_gen_test2.csv', index=False)"
      ],
      "execution_count": null,
      "outputs": []
    },
    {
      "cell_type": "code",
      "metadata": {
        "id": "CWqrKHUtxKzG"
      },
      "source": [
        "df = pd.DataFrame(cord, columns = ['Longitude','Latitude'])"
      ],
      "execution_count": null,
      "outputs": []
    },
    {
      "cell_type": "code",
      "metadata": {
        "id": "MfX_v-Frxr99"
      },
      "source": [
        "df.to_csv('generateDots_new.csv', index=False)"
      ],
      "execution_count": null,
      "outputs": []
    },
    {
      "cell_type": "code",
      "metadata": {
        "colab": {
          "base_uri": "https://localhost:8080/",
          "height": 282
        },
        "id": "X_LPcNFS6Jnc",
        "outputId": "a1b63179-b753-4e07-bb7c-609789eacd8d"
      },
      "source": [
        "plt.scatter(df['Longitude'], df['Latitude'])"
      ],
      "execution_count": null,
      "outputs": [
        {
          "output_type": "execute_result",
          "data": {
            "text/plain": [
              "<matplotlib.collections.PathCollection at 0x7f1b0606d950>"
            ]
          },
          "metadata": {
            "tags": []
          },
          "execution_count": 10
        },
        {
          "output_type": "display_data",
          "data": {
            "image/png": "[encoded data removed]",
            "text/plain": [
              "<Figure size 432x288 with 1 Axes>"
            ]
          },
          "metadata": {
            "tags": [],
            "needs_background": "light"
          }
        }
      ]
    },
    {
      "cell_type": "code",
      "metadata": {
        "id": "uLMTSgRU87sQ"
      },
      "source": [
        "def dotsGenerator(leftLov,rightUp,n):\n",
        "  #rightLov = [leftLov[0],rightUp[1]]\n",
        "  xStart = np.linspace(leftLov[0],rightUp[0],n)\n",
        "  yStart = np.linspace(leftLov[1],rightUp[1],n)\n",
        "  xx = np.linspace(leftLov[0],rightUp[0],n)\n",
        "\n",
        "  y=[]\n",
        "  x=[]\n",
        "  for i in range(len(yStart)):\n",
        "    y.append(yStart)\n",
        "    x.append(np.linspace(xx[i],xx[i],len(yStart)))\n",
        "  cord= []\n",
        "  for i in range(len(x)):\n",
        "    for j in range(len(y)):\n",
        "      cord.append([y[i][j],x[i][j]])\n",
        "  df = pd.DataFrame(cord, columns = ['Latitude','Longitude'])\n",
        "  return df"
      ],
      "execution_count": null,
      "outputs": []
    },
    {
      "cell_type": "code",
      "metadata": {
        "id": "fjDJDimiaP-L"
      },
      "source": [
        "xStart = np.linspace(leftLov[0],rightUp[0],n)\n",
        "yStart = np.linspace(leftLov[1],rightUp[1],n)\n",
        "xx = np.linspace(leftLov[0],rightUp[0],n)\n",
        "\n",
        "y=[]\n",
        "x=[]\n",
        "for i in range(len(yStart)):\n",
        "  y.append(yStart)\n",
        "  x.append(np.linspace(xx[i],xx[i],len(yStart)))\n",
        "cord= []\n",
        "for i in range(len(x)):\n",
        "  for j in range(len(y)):\n",
        "    cord.append([y[i][j],x[i][j]])\n",
        "\n",
        "df = pd.DataFrame(cord, columns = ['Latitude','Longitude'])"
      ],
      "execution_count": null,
      "outputs": []
    }
  ]
}